{
 "cells": [
  {
   "cell_type": "code",
   "execution_count": 1,
   "id": "348996dc",
   "metadata": {
    "_cell_guid": "b1076dfc-b9ad-4769-8c92-a6c4dae69d19",
    "_uuid": "8f2839f25d086af736a60e9eeb907d3b93b6e0e5",
    "execution": {
     "iopub.execute_input": "2025-10-16T15:13:28.035083Z",
     "iopub.status.busy": "2025-10-16T15:13:28.034830Z",
     "iopub.status.idle": "2025-10-16T15:13:29.641178Z",
     "shell.execute_reply": "2025-10-16T15:13:29.640164Z"
    },
    "papermill": {
     "duration": 1.6144,
     "end_time": "2025-10-16T15:13:29.643054",
     "exception": false,
     "start_time": "2025-10-16T15:13:28.028654",
     "status": "completed"
    },
    "tags": []
   },
   "outputs": [
    {
     "name": "stdout",
     "output_type": "stream",
     "text": [
      "/kaggle/input/afml-assignment-1/final/41_AlgoNauts/test-part2.txt\n",
      "/kaggle/input/afml-assignment-1/final/41_AlgoNauts/train-part2.csv\n",
      "/kaggle/input/afml-assignment-1/final/41_AlgoNauts/test-part1.csv\n",
      "/kaggle/input/afml-assignment-1/final/41_AlgoNauts/train-part1-noise.csv\n",
      "/kaggle/input/afml-assignment-1/final/41_AlgoNauts/boilerplate.ipynb\n",
      "/kaggle/input/afml-assignment-1/final/41_AlgoNauts/train-part1-clean.csv\n",
      "/kaggle/input/afml-assignment-1/final/29_Gradient Alchemists/test-part2.txt\n",
      "/kaggle/input/afml-assignment-1/final/29_Gradient Alchemists/train-part2.csv\n",
      "/kaggle/input/afml-assignment-1/final/29_Gradient Alchemists/test-part1.csv\n",
      "/kaggle/input/afml-assignment-1/final/29_Gradient Alchemists/train-part1-noise.csv\n",
      "/kaggle/input/afml-assignment-1/final/29_Gradient Alchemists/boilerplate.ipynb\n",
      "/kaggle/input/afml-assignment-1/final/29_Gradient Alchemists/train-part1-clean.csv\n",
      "/kaggle/input/afml-assignment-1/final/20_Biasically Us/test-part2.txt\n",
      "/kaggle/input/afml-assignment-1/final/20_Biasically Us/train-part2.csv\n",
      "/kaggle/input/afml-assignment-1/final/20_Biasically Us/test-part1.csv\n",
      "/kaggle/input/afml-assignment-1/final/20_Biasically Us/train-part1-noise.csv\n",
      "/kaggle/input/afml-assignment-1/final/20_Biasically Us/boilerplate.ipynb\n",
      "/kaggle/input/afml-assignment-1/final/20_Biasically Us/train-part1-clean.csv\n",
      "/kaggle/input/afml-assignment-1/final/23_Bayes3/test-part2.txt\n",
      "/kaggle/input/afml-assignment-1/final/23_Bayes3/train-part2.csv\n",
      "/kaggle/input/afml-assignment-1/final/23_Bayes3/test-part1.csv\n",
      "/kaggle/input/afml-assignment-1/final/23_Bayes3/train-part1-noise.csv\n",
      "/kaggle/input/afml-assignment-1/final/23_Bayes3/boilerplate.ipynb\n",
      "/kaggle/input/afml-assignment-1/final/23_Bayes3/train-part1-clean.csv\n",
      "/kaggle/input/afml-assignment-1/final/6_Overfit Squad/test-part2.txt\n",
      "/kaggle/input/afml-assignment-1/final/6_Overfit Squad/train-part2.csv\n",
      "/kaggle/input/afml-assignment-1/final/6_Overfit Squad/test-part1.csv\n",
      "/kaggle/input/afml-assignment-1/final/6_Overfit Squad/train-part1-noise.csv\n",
      "/kaggle/input/afml-assignment-1/final/6_Overfit Squad/boilerplate.ipynb\n",
      "/kaggle/input/afml-assignment-1/final/6_Overfit Squad/train-part1-clean.csv\n",
      "/kaggle/input/afml-assignment-1/final/4_Shampoo Optimizers/test-part2.txt\n",
      "/kaggle/input/afml-assignment-1/final/4_Shampoo Optimizers/train-part2.csv\n",
      "/kaggle/input/afml-assignment-1/final/4_Shampoo Optimizers/test-part1.csv\n",
      "/kaggle/input/afml-assignment-1/final/4_Shampoo Optimizers/train-part1-noise.csv\n",
      "/kaggle/input/afml-assignment-1/final/4_Shampoo Optimizers/boilerplate.ipynb\n",
      "/kaggle/input/afml-assignment-1/final/4_Shampoo Optimizers/train-part1-clean.csv\n",
      "/kaggle/input/afml-assignment-1/final/13_CoreLearn/test-part2.txt\n",
      "/kaggle/input/afml-assignment-1/final/13_CoreLearn/train-part2.csv\n",
      "/kaggle/input/afml-assignment-1/final/13_CoreLearn/test-part1.csv\n",
      "/kaggle/input/afml-assignment-1/final/13_CoreLearn/train-part1-noise.csv\n",
      "/kaggle/input/afml-assignment-1/final/13_CoreLearn/boilerplate.ipynb\n",
      "/kaggle/input/afml-assignment-1/final/13_CoreLearn/train-part1-clean.csv\n",
      "/kaggle/input/afml-assignment-1/final/24_opacus/test-part2.txt\n",
      "/kaggle/input/afml-assignment-1/final/24_opacus/train-part2.csv\n",
      "/kaggle/input/afml-assignment-1/final/24_opacus/test-part1.csv\n",
      "/kaggle/input/afml-assignment-1/final/24_opacus/train-part1-noise.csv\n",
      "/kaggle/input/afml-assignment-1/final/24_opacus/boilerplate.ipynb\n",
      "/kaggle/input/afml-assignment-1/final/24_opacus/train-part1-clean.csv\n",
      "/kaggle/input/afml-assignment-1/final/47_TensorBros/test-part2.txt\n",
      "/kaggle/input/afml-assignment-1/final/47_TensorBros/train-part2.csv\n",
      "/kaggle/input/afml-assignment-1/final/47_TensorBros/test-part1.csv\n",
      "/kaggle/input/afml-assignment-1/final/47_TensorBros/train-part1-noise.csv\n",
      "/kaggle/input/afml-assignment-1/final/47_TensorBros/boilerplate.ipynb\n",
      "/kaggle/input/afml-assignment-1/final/47_TensorBros/train-part1-clean.csv\n",
      "/kaggle/input/afml-assignment-1/final/21_T3N5OR/test-part2.txt\n",
      "/kaggle/input/afml-assignment-1/final/21_T3N5OR/train-part2.csv\n",
      "/kaggle/input/afml-assignment-1/final/21_T3N5OR/test-part1.csv\n",
      "/kaggle/input/afml-assignment-1/final/21_T3N5OR/train-part1-noise.csv\n",
      "/kaggle/input/afml-assignment-1/final/21_T3N5OR/boilerplate.ipynb\n",
      "/kaggle/input/afml-assignment-1/final/21_T3N5OR/train-part1-clean.csv\n",
      "/kaggle/input/afml-assignment-1/final/52_TA_ALLOT_04/test-part2.txt\n",
      "/kaggle/input/afml-assignment-1/final/52_TA_ALLOT_04/train-part2.csv\n",
      "/kaggle/input/afml-assignment-1/final/52_TA_ALLOT_04/test-part1.csv\n",
      "/kaggle/input/afml-assignment-1/final/52_TA_ALLOT_04/train-part1-noise.csv\n",
      "/kaggle/input/afml-assignment-1/final/52_TA_ALLOT_04/boilerplate.ipynb\n",
      "/kaggle/input/afml-assignment-1/final/52_TA_ALLOT_04/train-part1-clean.csv\n",
      "/kaggle/input/afml-assignment-1/final/36_Lortinis/test-part2.txt\n",
      "/kaggle/input/afml-assignment-1/final/36_Lortinis/train-part2.csv\n",
      "/kaggle/input/afml-assignment-1/final/36_Lortinis/test-part1.csv\n",
      "/kaggle/input/afml-assignment-1/final/36_Lortinis/train-part1-noise.csv\n",
      "/kaggle/input/afml-assignment-1/final/36_Lortinis/boilerplate.ipynb\n",
      "/kaggle/input/afml-assignment-1/final/36_Lortinis/train-part1-clean.csv\n",
      "/kaggle/input/afml-assignment-1/final/7_MindMesh/test-part2.txt\n",
      "/kaggle/input/afml-assignment-1/final/7_MindMesh/train-part2.csv\n",
      "/kaggle/input/afml-assignment-1/final/7_MindMesh/test-part1.csv\n",
      "/kaggle/input/afml-assignment-1/final/7_MindMesh/train-part1-noise.csv\n",
      "/kaggle/input/afml-assignment-1/final/7_MindMesh/boilerplate.ipynb\n",
      "/kaggle/input/afml-assignment-1/final/7_MindMesh/train-part1-clean.csv\n",
      "/kaggle/input/afml-assignment-1/final/43_File Force/test-part2.txt\n",
      "/kaggle/input/afml-assignment-1/final/43_File Force/train-part2.csv\n",
      "/kaggle/input/afml-assignment-1/final/43_File Force/test-part1.csv\n",
      "/kaggle/input/afml-assignment-1/final/43_File Force/train-part1-noise.csv\n",
      "/kaggle/input/afml-assignment-1/final/43_File Force/boilerplate.ipynb\n",
      "/kaggle/input/afml-assignment-1/final/43_File Force/train-part1-clean.csv\n",
      "/kaggle/input/afml-assignment-1/final/11_Neural Nexus/test-part2.txt\n",
      "/kaggle/input/afml-assignment-1/final/11_Neural Nexus/train-part2.csv\n",
      "/kaggle/input/afml-assignment-1/final/11_Neural Nexus/test-part1.csv\n",
      "/kaggle/input/afml-assignment-1/final/11_Neural Nexus/train-part1-noise.csv\n",
      "/kaggle/input/afml-assignment-1/final/11_Neural Nexus/boilerplate.ipynb\n",
      "/kaggle/input/afml-assignment-1/final/11_Neural Nexus/train-part1-clean.csv\n",
      "/kaggle/input/afml-assignment-1/final/17_KKK/test-part2.txt\n",
      "/kaggle/input/afml-assignment-1/final/17_KKK/train-part2.csv\n",
      "/kaggle/input/afml-assignment-1/final/17_KKK/test-part1.csv\n",
      "/kaggle/input/afml-assignment-1/final/17_KKK/train-part1-noise.csv\n",
      "/kaggle/input/afml-assignment-1/final/17_KKK/boilerplate.ipynb\n",
      "/kaggle/input/afml-assignment-1/final/17_KKK/train-part1-clean.csv\n",
      "/kaggle/input/afml-assignment-1/final/40_4funguys/test-part2.txt\n",
      "/kaggle/input/afml-assignment-1/final/40_4funguys/train-part2.csv\n",
      "/kaggle/input/afml-assignment-1/final/40_4funguys/test-part1.csv\n",
      "/kaggle/input/afml-assignment-1/final/40_4funguys/train-part1-noise.csv\n",
      "/kaggle/input/afml-assignment-1/final/40_4funguys/boilerplate.ipynb\n",
      "/kaggle/input/afml-assignment-1/final/40_4funguys/train-part1-clean.csv\n",
      "/kaggle/input/afml-assignment-1/final/48_Epoch/test-part2.txt\n",
      "/kaggle/input/afml-assignment-1/final/48_Epoch/train-part2.csv\n",
      "/kaggle/input/afml-assignment-1/final/48_Epoch/test-part1.csv\n",
      "/kaggle/input/afml-assignment-1/final/48_Epoch/train-part1-noise.csv\n",
      "/kaggle/input/afml-assignment-1/final/48_Epoch/boilerplate.ipynb\n",
      "/kaggle/input/afml-assignment-1/final/48_Epoch/train-part1-clean.csv\n",
      "/kaggle/input/afml-assignment-1/final/10_Encephalon/test-part2.txt\n",
      "/kaggle/input/afml-assignment-1/final/10_Encephalon/train-part2.csv\n",
      "/kaggle/input/afml-assignment-1/final/10_Encephalon/test-part1.csv\n",
      "/kaggle/input/afml-assignment-1/final/10_Encephalon/train-part1-noise.csv\n",
      "/kaggle/input/afml-assignment-1/final/10_Encephalon/boilerplate.ipynb\n",
      "/kaggle/input/afml-assignment-1/final/10_Encephalon/train-part1-clean.csv\n",
      "/kaggle/input/afml-assignment-1/final/8_Ring Road Hackers/test-part2.txt\n",
      "/kaggle/input/afml-assignment-1/final/8_Ring Road Hackers/train-part2.csv\n",
      "/kaggle/input/afml-assignment-1/final/8_Ring Road Hackers/test-part1.csv\n",
      "/kaggle/input/afml-assignment-1/final/8_Ring Road Hackers/train-part1-noise.csv\n",
      "/kaggle/input/afml-assignment-1/final/8_Ring Road Hackers/boilerplate.ipynb\n",
      "/kaggle/input/afml-assignment-1/final/8_Ring Road Hackers/train-part1-clean.csv\n",
      "/kaggle/input/afml-assignment-1/final/15_Neuro Nexus/test-part2.txt\n",
      "/kaggle/input/afml-assignment-1/final/15_Neuro Nexus/train-part2.csv\n",
      "/kaggle/input/afml-assignment-1/final/15_Neuro Nexus/test-part1.csv\n",
      "/kaggle/input/afml-assignment-1/final/15_Neuro Nexus/train-part1-noise.csv\n",
      "/kaggle/input/afml-assignment-1/final/15_Neuro Nexus/boilerplate.ipynb\n",
      "/kaggle/input/afml-assignment-1/final/15_Neuro Nexus/train-part1-clean.csv\n",
      "/kaggle/input/afml-assignment-1/final/38_Hustle Squad/test-part2.txt\n",
      "/kaggle/input/afml-assignment-1/final/38_Hustle Squad/train-part2.csv\n",
      "/kaggle/input/afml-assignment-1/final/38_Hustle Squad/test-part1.csv\n",
      "/kaggle/input/afml-assignment-1/final/38_Hustle Squad/train-part1-noise.csv\n",
      "/kaggle/input/afml-assignment-1/final/38_Hustle Squad/boilerplate.ipynb\n",
      "/kaggle/input/afml-assignment-1/final/38_Hustle Squad/train-part1-clean.csv\n",
      "/kaggle/input/afml-assignment-1/final/50_TA_ALLOT_02/test-part2.txt\n",
      "/kaggle/input/afml-assignment-1/final/50_TA_ALLOT_02/train-part2.csv\n",
      "/kaggle/input/afml-assignment-1/final/50_TA_ALLOT_02/test-part1.csv\n",
      "/kaggle/input/afml-assignment-1/final/50_TA_ALLOT_02/train-part1-noise.csv\n",
      "/kaggle/input/afml-assignment-1/final/50_TA_ALLOT_02/boilerplate.ipynb\n",
      "/kaggle/input/afml-assignment-1/final/50_TA_ALLOT_02/train-part1-clean.csv\n",
      "/kaggle/input/afml-assignment-1/final/37_Linear Depression/test-part2.txt\n",
      "/kaggle/input/afml-assignment-1/final/37_Linear Depression/train-part2.csv\n",
      "/kaggle/input/afml-assignment-1/final/37_Linear Depression/test-part1.csv\n",
      "/kaggle/input/afml-assignment-1/final/37_Linear Depression/train-part1-noise.csv\n",
      "/kaggle/input/afml-assignment-1/final/37_Linear Depression/boilerplate.ipynb\n",
      "/kaggle/input/afml-assignment-1/final/37_Linear Depression/train-part1-clean.csv\n",
      "/kaggle/input/afml-assignment-1/final/42_Ctrl Alt Delusion/test-part2.txt\n",
      "/kaggle/input/afml-assignment-1/final/42_Ctrl Alt Delusion/train-part2.csv\n",
      "/kaggle/input/afml-assignment-1/final/42_Ctrl Alt Delusion/test-part1.csv\n",
      "/kaggle/input/afml-assignment-1/final/42_Ctrl Alt Delusion/train-part1-noise.csv\n",
      "/kaggle/input/afml-assignment-1/final/42_Ctrl Alt Delusion/boilerplate.ipynb\n",
      "/kaggle/input/afml-assignment-1/final/42_Ctrl Alt Delusion/train-part1-clean.csv\n",
      "/kaggle/input/afml-assignment-1/final/2_KMM/test-part2.txt\n",
      "/kaggle/input/afml-assignment-1/final/2_KMM/train-part2.csv\n",
      "/kaggle/input/afml-assignment-1/final/2_KMM/test-part1.csv\n",
      "/kaggle/input/afml-assignment-1/final/2_KMM/train-part1-noise.csv\n",
      "/kaggle/input/afml-assignment-1/final/2_KMM/boilerplate.ipynb\n",
      "/kaggle/input/afml-assignment-1/final/2_KMM/train-part1-clean.csv\n",
      "/kaggle/input/afml-assignment-1/final/16_Neural Nexus/test-part2.txt\n",
      "/kaggle/input/afml-assignment-1/final/16_Neural Nexus/train-part2.csv\n",
      "/kaggle/input/afml-assignment-1/final/16_Neural Nexus/test-part1.csv\n",
      "/kaggle/input/afml-assignment-1/final/16_Neural Nexus/train-part1-noise.csv\n",
      "/kaggle/input/afml-assignment-1/final/16_Neural Nexus/boilerplate.ipynb\n",
      "/kaggle/input/afml-assignment-1/final/16_Neural Nexus/train-part1-clean.csv\n",
      "/kaggle/input/afml-assignment-1/final/18_AFML squad/test-part2.txt\n",
      "/kaggle/input/afml-assignment-1/final/18_AFML squad/train-part2.csv\n",
      "/kaggle/input/afml-assignment-1/final/18_AFML squad/test-part1.csv\n",
      "/kaggle/input/afml-assignment-1/final/18_AFML squad/train-part1-noise.csv\n",
      "/kaggle/input/afml-assignment-1/final/18_AFML squad/boilerplate.ipynb\n",
      "/kaggle/input/afml-assignment-1/final/18_AFML squad/train-part1-clean.csv\n",
      "/kaggle/input/afml-assignment-1/final/30_Minions/test-part2.txt\n",
      "/kaggle/input/afml-assignment-1/final/30_Minions/train-part2.csv\n",
      "/kaggle/input/afml-assignment-1/final/30_Minions/test-part1.csv\n",
      "/kaggle/input/afml-assignment-1/final/30_Minions/train-part1-noise.csv\n",
      "/kaggle/input/afml-assignment-1/final/30_Minions/boilerplate.ipynb\n",
      "/kaggle/input/afml-assignment-1/final/30_Minions/train-part1-clean.csv\n",
      "/kaggle/input/afml-assignment-1/final/31_Team ALPHA/test-part2.txt\n",
      "/kaggle/input/afml-assignment-1/final/31_Team ALPHA/train-part2.csv\n",
      "/kaggle/input/afml-assignment-1/final/31_Team ALPHA/test-part1.csv\n",
      "/kaggle/input/afml-assignment-1/final/31_Team ALPHA/train-part1-noise.csv\n",
      "/kaggle/input/afml-assignment-1/final/31_Team ALPHA/boilerplate.ipynb\n",
      "/kaggle/input/afml-assignment-1/final/31_Team ALPHA/train-part1-clean.csv\n",
      "/kaggle/input/afml-assignment-1/final/3_life_regression/test-part2.txt\n",
      "/kaggle/input/afml-assignment-1/final/3_life_regression/train-part2.csv\n",
      "/kaggle/input/afml-assignment-1/final/3_life_regression/test-part1.csv\n",
      "/kaggle/input/afml-assignment-1/final/3_life_regression/train-part1-noise.csv\n",
      "/kaggle/input/afml-assignment-1/final/3_life_regression/boilerplate.ipynb\n",
      "/kaggle/input/afml-assignment-1/final/3_life_regression/train-part1-clean.csv\n",
      "/kaggle/input/afml-assignment-1/final/51_TA_ALLOT_03/test-part2.txt\n",
      "/kaggle/input/afml-assignment-1/final/51_TA_ALLOT_03/train-part2.csv\n",
      "/kaggle/input/afml-assignment-1/final/51_TA_ALLOT_03/test-part1.csv\n",
      "/kaggle/input/afml-assignment-1/final/51_TA_ALLOT_03/train-part1-noise.csv\n",
      "/kaggle/input/afml-assignment-1/final/51_TA_ALLOT_03/boilerplate.ipynb\n",
      "/kaggle/input/afml-assignment-1/final/51_TA_ALLOT_03/train-part1-clean.csv\n",
      "/kaggle/input/afml-assignment-1/final/19_The J Word/test-part2.txt\n",
      "/kaggle/input/afml-assignment-1/final/19_The J Word/train-part2.csv\n",
      "/kaggle/input/afml-assignment-1/final/19_The J Word/test-part1.csv\n",
      "/kaggle/input/afml-assignment-1/final/19_The J Word/train-part1-noise.csv\n",
      "/kaggle/input/afml-assignment-1/final/19_The J Word/boilerplate.ipynb\n",
      "/kaggle/input/afml-assignment-1/final/19_The J Word/train-part1-clean.csv\n",
      "/kaggle/input/afml-assignment-1/final/35_Scribbles/test-part2.txt\n",
      "/kaggle/input/afml-assignment-1/final/35_Scribbles/train-part2.csv\n",
      "/kaggle/input/afml-assignment-1/final/35_Scribbles/test-part1.csv\n",
      "/kaggle/input/afml-assignment-1/final/35_Scribbles/train-part1-noise.csv\n",
      "/kaggle/input/afml-assignment-1/final/35_Scribbles/boilerplate.ipynb\n",
      "/kaggle/input/afml-assignment-1/final/35_Scribbles/train-part1-clean.csv\n",
      "/kaggle/input/afml-assignment-1/final/39_How to train your ML model/test-part2.txt\n",
      "/kaggle/input/afml-assignment-1/final/39_How to train your ML model/train-part2.csv\n",
      "/kaggle/input/afml-assignment-1/final/39_How to train your ML model/test-part1.csv\n",
      "/kaggle/input/afml-assignment-1/final/39_How to train your ML model/train-part1-noise.csv\n",
      "/kaggle/input/afml-assignment-1/final/39_How to train your ML model/boilerplate.ipynb\n",
      "/kaggle/input/afml-assignment-1/final/39_How to train your ML model/train-part1-clean.csv\n",
      "/kaggle/input/afml-assignment-1/final/22_saLsa/test-part2.txt\n",
      "/kaggle/input/afml-assignment-1/final/22_saLsa/train-part2.csv\n",
      "/kaggle/input/afml-assignment-1/final/22_saLsa/test-part1.csv\n",
      "/kaggle/input/afml-assignment-1/final/22_saLsa/train-part1-noise.csv\n",
      "/kaggle/input/afml-assignment-1/final/22_saLsa/boilerplate.ipynb\n",
      "/kaggle/input/afml-assignment-1/final/22_saLsa/train-part1-clean.csv\n",
      "/kaggle/input/afml-assignment-1/final/5_Hyperion Vector/test-part2.txt\n",
      "/kaggle/input/afml-assignment-1/final/5_Hyperion Vector/train-part2.csv\n",
      "/kaggle/input/afml-assignment-1/final/5_Hyperion Vector/test-part1.csv\n",
      "/kaggle/input/afml-assignment-1/final/5_Hyperion Vector/train-part1-noise.csv\n",
      "/kaggle/input/afml-assignment-1/final/5_Hyperion Vector/boilerplate.ipynb\n",
      "/kaggle/input/afml-assignment-1/final/5_Hyperion Vector/train-part1-clean.csv\n",
      "/kaggle/input/afml-assignment-1/final/33_Neural Nomads/test-part2.txt\n",
      "/kaggle/input/afml-assignment-1/final/33_Neural Nomads/train-part2.csv\n",
      "/kaggle/input/afml-assignment-1/final/33_Neural Nomads/test-part1.csv\n",
      "/kaggle/input/afml-assignment-1/final/33_Neural Nomads/train-part1-noise.csv\n",
      "/kaggle/input/afml-assignment-1/final/33_Neural Nomads/boilerplate.ipynb\n",
      "/kaggle/input/afml-assignment-1/final/33_Neural Nomads/train-part1-clean.csv\n",
      "/kaggle/input/afml-assignment-1/final/14_LLMinators/test-part2.txt\n",
      "/kaggle/input/afml-assignment-1/final/14_LLMinators/train-part2.csv\n",
      "/kaggle/input/afml-assignment-1/final/14_LLMinators/test-part1.csv\n",
      "/kaggle/input/afml-assignment-1/final/14_LLMinators/train-part1-noise.csv\n",
      "/kaggle/input/afml-assignment-1/final/14_LLMinators/boilerplate.ipynb\n",
      "/kaggle/input/afml-assignment-1/final/14_LLMinators/train-part1-clean.csv\n",
      "/kaggle/input/afml-assignment-1/final/1_ML- Manual labourers/test-part2.txt\n",
      "/kaggle/input/afml-assignment-1/final/1_ML- Manual labourers/train-part2.csv\n",
      "/kaggle/input/afml-assignment-1/final/1_ML- Manual labourers/test-part1.csv\n",
      "/kaggle/input/afml-assignment-1/final/1_ML- Manual labourers/train-part1-noise.csv\n",
      "/kaggle/input/afml-assignment-1/final/1_ML- Manual labourers/boilerplate.ipynb\n",
      "/kaggle/input/afml-assignment-1/final/1_ML- Manual labourers/train-part1-clean.csv\n",
      "/kaggle/input/afml-assignment-1/final/28_Chadbots/test-part2.txt\n",
      "/kaggle/input/afml-assignment-1/final/28_Chadbots/train-part2.csv\n",
      "/kaggle/input/afml-assignment-1/final/28_Chadbots/test-part1.csv\n",
      "/kaggle/input/afml-assignment-1/final/28_Chadbots/train-part1-noise.csv\n",
      "/kaggle/input/afml-assignment-1/final/28_Chadbots/boilerplate.ipynb\n",
      "/kaggle/input/afml-assignment-1/final/28_Chadbots/train-part1-clean.csv\n",
      "/kaggle/input/afml-assignment-1/final/34_EPOCH/test-part2.txt\n",
      "/kaggle/input/afml-assignment-1/final/34_EPOCH/train-part2.csv\n",
      "/kaggle/input/afml-assignment-1/final/34_EPOCH/test-part1.csv\n",
      "/kaggle/input/afml-assignment-1/final/34_EPOCH/train-part1-noise.csv\n",
      "/kaggle/input/afml-assignment-1/final/34_EPOCH/boilerplate.ipynb\n",
      "/kaggle/input/afml-assignment-1/final/34_EPOCH/train-part1-clean.csv\n",
      "/kaggle/input/afml-assignment-1/final/12_ReLU/test-part2.txt\n",
      "/kaggle/input/afml-assignment-1/final/12_ReLU/train-part2.csv\n",
      "/kaggle/input/afml-assignment-1/final/12_ReLU/test-part1.csv\n",
      "/kaggle/input/afml-assignment-1/final/12_ReLU/train-part1-noise.csv\n",
      "/kaggle/input/afml-assignment-1/final/12_ReLU/boilerplate.ipynb\n",
      "/kaggle/input/afml-assignment-1/final/12_ReLU/train-part1-clean.csv\n",
      "/kaggle/input/afml-assignment-1/final/26_Seagulls/test-part2.txt\n",
      "/kaggle/input/afml-assignment-1/final/26_Seagulls/train-part2.csv\n",
      "/kaggle/input/afml-assignment-1/final/26_Seagulls/test-part1.csv\n",
      "/kaggle/input/afml-assignment-1/final/26_Seagulls/train-part1-noise.csv\n",
      "/kaggle/input/afml-assignment-1/final/26_Seagulls/boilerplate.ipynb\n",
      "/kaggle/input/afml-assignment-1/final/26_Seagulls/train-part1-clean.csv\n",
      "/kaggle/input/afml-assignment-1/final/32_straight and curly/test-part2.txt\n",
      "/kaggle/input/afml-assignment-1/final/32_straight and curly/train-part2.csv\n",
      "/kaggle/input/afml-assignment-1/final/32_straight and curly/test-part1.csv\n",
      "/kaggle/input/afml-assignment-1/final/32_straight and curly/train-part1-noise.csv\n",
      "/kaggle/input/afml-assignment-1/final/32_straight and curly/boilerplate.ipynb\n",
      "/kaggle/input/afml-assignment-1/final/32_straight and curly/train-part1-clean.csv\n",
      "/kaggle/input/afml-assignment-1/final/44_XLR8/test-part2.txt\n",
      "/kaggle/input/afml-assignment-1/final/44_XLR8/train-part2.csv\n",
      "/kaggle/input/afml-assignment-1/final/44_XLR8/test-part1.csv\n",
      "/kaggle/input/afml-assignment-1/final/44_XLR8/train-part1-noise.csv\n",
      "/kaggle/input/afml-assignment-1/final/44_XLR8/boilerplate.ipynb\n",
      "/kaggle/input/afml-assignment-1/final/44_XLR8/train-part1-clean.csv\n",
      "/kaggle/input/afml-assignment-1/final/25_Pandas/test-part2.txt\n",
      "/kaggle/input/afml-assignment-1/final/25_Pandas/train-part2.csv\n",
      "/kaggle/input/afml-assignment-1/final/25_Pandas/test-part1.csv\n",
      "/kaggle/input/afml-assignment-1/final/25_Pandas/train-part1-noise.csv\n",
      "/kaggle/input/afml-assignment-1/final/25_Pandas/boilerplate.ipynb\n",
      "/kaggle/input/afml-assignment-1/final/25_Pandas/train-part1-clean.csv\n",
      "/kaggle/input/afml-assignment-1/final/46_BEE/test-part2.txt\n",
      "/kaggle/input/afml-assignment-1/final/46_BEE/train-part2.csv\n",
      "/kaggle/input/afml-assignment-1/final/46_BEE/test-part1.csv\n",
      "/kaggle/input/afml-assignment-1/final/46_BEE/train-part1-noise.csv\n",
      "/kaggle/input/afml-assignment-1/final/46_BEE/boilerplate.ipynb\n",
      "/kaggle/input/afml-assignment-1/final/46_BEE/train-part1-clean.csv\n",
      "/kaggle/input/afml-assignment-1/final/45_KMinnovex/test-part2.txt\n",
      "/kaggle/input/afml-assignment-1/final/45_KMinnovex/train-part2.csv\n",
      "/kaggle/input/afml-assignment-1/final/45_KMinnovex/test-part1.csv\n",
      "/kaggle/input/afml-assignment-1/final/45_KMinnovex/train-part1-noise.csv\n",
      "/kaggle/input/afml-assignment-1/final/45_KMinnovex/boilerplate.ipynb\n",
      "/kaggle/input/afml-assignment-1/final/45_KMinnovex/train-part1-clean.csv\n",
      "/kaggle/input/afml-assignment-1/final/49_TA_ALLOT_01/test-part2.txt\n",
      "/kaggle/input/afml-assignment-1/final/49_TA_ALLOT_01/train-part2.csv\n",
      "/kaggle/input/afml-assignment-1/final/49_TA_ALLOT_01/test-part1.csv\n",
      "/kaggle/input/afml-assignment-1/final/49_TA_ALLOT_01/train-part1-noise.csv\n",
      "/kaggle/input/afml-assignment-1/final/49_TA_ALLOT_01/boilerplate.ipynb\n",
      "/kaggle/input/afml-assignment-1/final/49_TA_ALLOT_01/train-part1-clean.csv\n",
      "/kaggle/input/afml-assignment-1/final/9_Epoch Encoders/test-part2.txt\n",
      "/kaggle/input/afml-assignment-1/final/9_Epoch Encoders/train-part2.csv\n",
      "/kaggle/input/afml-assignment-1/final/9_Epoch Encoders/test-part1.csv\n",
      "/kaggle/input/afml-assignment-1/final/9_Epoch Encoders/train-part1-noise.csv\n",
      "/kaggle/input/afml-assignment-1/final/9_Epoch Encoders/boilerplate.ipynb\n",
      "/kaggle/input/afml-assignment-1/final/9_Epoch Encoders/train-part1-clean.csv\n",
      "/kaggle/input/afml-assignment-1/final/27_Bricks by Bricks/test-part2.txt\n",
      "/kaggle/input/afml-assignment-1/final/27_Bricks by Bricks/train-part2.csv\n",
      "/kaggle/input/afml-assignment-1/final/27_Bricks by Bricks/test-part1.csv\n",
      "/kaggle/input/afml-assignment-1/final/27_Bricks by Bricks/train-part1-noise.csv\n",
      "/kaggle/input/afml-assignment-1/final/27_Bricks by Bricks/boilerplate.ipynb\n",
      "/kaggle/input/afml-assignment-1/final/27_Bricks by Bricks/train-part1-clean.csv\n"
     ]
    }
   ],
   "source": [
    "# This Python 3 environment comes with many helpful analytics libraries installed\n",
    "# It is defined by the kaggle/python Docker image: https://github.com/kaggle/docker-python\n",
    "# For example, here's several helpful packages to load\n",
    "\n",
    "import numpy as np # linear algebra\n",
    "import pandas as pd # data processing, CSV file I/O (e.g. pd.read_csv)\n",
    "\n",
    "# Input data files are available in the read-only \"../input/\" directory\n",
    "# For example, running this (by clicking run or pressing Shift+Enter) will list all files under the input directory\n",
    "\n",
    "import os\n",
    "for dirname, _, filenames in os.walk('/kaggle/input'):\n",
    "    for filename in filenames:\n",
    "        print(os.path.join(dirname, filename))\n",
    "\n",
    "# You can write up to 20GB to the current directory (/kaggle/working/) that gets preserved as output when you create a version using \"Save & Run All\" \n",
    "# You can also write temporary files to /kaggle/temp/, but they won't be saved outside of the current session"
   ]
  },
  {
   "cell_type": "markdown",
   "id": "3cd1a929",
   "metadata": {
    "papermill": {
     "duration": 0.004584,
     "end_time": "2025-10-16T15:13:29.655398",
     "exception": false,
     "start_time": "2025-10-16T15:13:29.650814",
     "status": "completed"
    },
    "tags": []
   },
   "source": [
    "# Import Requiremnts "
   ]
  },
  {
   "cell_type": "code",
   "execution_count": 2,
   "id": "c7b3123e",
   "metadata": {
    "execution": {
     "iopub.execute_input": "2025-10-16T15:13:29.668332Z",
     "iopub.status.busy": "2025-10-16T15:13:29.668004Z",
     "iopub.status.idle": "2025-10-16T15:13:34.506706Z",
     "shell.execute_reply": "2025-10-16T15:13:34.505899Z"
    },
    "papermill": {
     "duration": 4.848184,
     "end_time": "2025-10-16T15:13:34.508176",
     "exception": false,
     "start_time": "2025-10-16T15:13:29.659992",
     "status": "completed"
    },
    "tags": []
   },
   "outputs": [],
   "source": [
    "import torch\n",
    "import torch.nn as nn\n",
    "from torch.utils.data import DataLoader, TensorDataset\n",
    "import numpy as np\n",
    "import pandas as pd\n",
    "import matplotlib.pyplot as plt\n",
    "import seaborn as sns\n",
    "from scipy import stats\n",
    "from scipy.fft import fft, fftfreq"
   ]
  },
  {
   "cell_type": "markdown",
   "id": "75aa8f98",
   "metadata": {
    "papermill": {
     "duration": 0.004219,
     "end_time": "2025-10-16T15:13:34.517194",
     "exception": false,
     "start_time": "2025-10-16T15:13:34.512975",
     "status": "completed"
    },
    "tags": []
   },
   "source": [
    "# Understanding the Noise and Bssic EDA of Weights"
   ]
  },
  {
   "cell_type": "code",
   "execution_count": 3,
   "id": "70023d3a",
   "metadata": {
    "execution": {
     "iopub.execute_input": "2025-10-16T15:13:34.526869Z",
     "iopub.status.busy": "2025-10-16T15:13:34.526519Z",
     "iopub.status.idle": "2025-10-16T15:13:46.651128Z",
     "shell.execute_reply": "2025-10-16T15:13:46.650272Z"
    },
    "papermill": {
     "duration": 12.130952,
     "end_time": "2025-10-16T15:13:46.652526",
     "exception": false,
     "start_time": "2025-10-16T15:13:34.521574",
     "status": "completed"
    },
    "tags": []
   },
   "outputs": [],
   "source": [
    "clean = pd.read_csv('/kaggle/input/afml-assignment-1/final/24_opacus/train-part1-clean.csv', header=None).values.flatten()\n",
    "noisy_train = pd.read_csv('/kaggle/input/afml-assignment-1/final/24_opacus/train-part1-noise.csv', header=None).values.flatten()\n",
    "noisy_test = pd.read_csv('/kaggle/input/afml-assignment-1/final/24_opacus/test-part1.csv', header=None).values.flatten()\n"
   ]
  },
  {
   "cell_type": "code",
   "execution_count": 4,
   "id": "475d9de3",
   "metadata": {
    "execution": {
     "iopub.execute_input": "2025-10-16T15:13:46.662529Z",
     "iopub.status.busy": "2025-10-16T15:13:46.662294Z",
     "iopub.status.idle": "2025-10-16T15:13:46.665769Z",
     "shell.execute_reply": "2025-10-16T15:13:46.665195Z"
    },
    "papermill": {
     "duration": 0.009507,
     "end_time": "2025-10-16T15:13:46.666801",
     "exception": false,
     "start_time": "2025-10-16T15:13:46.657294",
     "status": "completed"
    },
    "tags": []
   },
   "outputs": [],
   "source": [
    "clean = clean.reshape(-1, 20)\n",
    "noisy_train = noisy_train.reshape(-1, 20)\n",
    "noisy_test = noisy_test.reshape(-1, 20)"
   ]
  },
  {
   "cell_type": "code",
   "execution_count": 5,
   "id": "dee98f73",
   "metadata": {
    "execution": {
     "iopub.execute_input": "2025-10-16T15:13:46.676696Z",
     "iopub.status.busy": "2025-10-16T15:13:46.676460Z",
     "iopub.status.idle": "2025-10-16T15:13:46.717156Z",
     "shell.execute_reply": "2025-10-16T15:13:46.716391Z"
    },
    "papermill": {
     "duration": 0.047115,
     "end_time": "2025-10-16T15:13:46.718469",
     "exception": false,
     "start_time": "2025-10-16T15:13:46.671354",
     "status": "completed"
    },
    "tags": []
   },
   "outputs": [],
   "source": [
    "noise = noisy_train - clean"
   ]
  },
  {
   "cell_type": "code",
   "execution_count": 6,
   "id": "93e7532c",
   "metadata": {
    "execution": {
     "iopub.execute_input": "2025-10-16T15:13:46.729092Z",
     "iopub.status.busy": "2025-10-16T15:13:46.728535Z",
     "iopub.status.idle": "2025-10-16T15:13:47.091789Z",
     "shell.execute_reply": "2025-10-16T15:13:47.090893Z"
    },
    "papermill": {
     "duration": 0.369469,
     "end_time": "2025-10-16T15:13:47.092976",
     "exception": false,
     "start_time": "2025-10-16T15:13:46.723507",
     "status": "completed"
    },
    "tags": []
   },
   "outputs": [
    {
     "name": "stdout",
     "output_type": "stream",
     "text": [
      "   Mean: 0.878631\n",
      "   Std: 810.585416\n",
      "   Min: -0.660046\n",
      "   Max: 3168884.810232\n",
      "   Median: 0.035964\n"
     ]
    }
   ],
   "source": [
    "# Noise statistics \n",
    "print(f\"   Mean: {noise.mean():.6f}\")\n",
    "print(f\"   Std: {noise.std():.6f}\")\n",
    "print(f\"   Min: {noise.min():.6f}\")\n",
    "print(f\"   Max: {noise.max():.6f}\")\n",
    "print(f\"   Median: {np.median(noise):.6f}\")"
   ]
  },
  {
   "cell_type": "code",
   "execution_count": 7,
   "id": "9642b6f5",
   "metadata": {
    "execution": {
     "iopub.execute_input": "2025-10-16T15:13:47.103996Z",
     "iopub.status.busy": "2025-10-16T15:13:47.103743Z",
     "iopub.status.idle": "2025-10-16T15:13:47.518260Z",
     "shell.execute_reply": "2025-10-16T15:13:47.517329Z"
    },
    "papermill": {
     "duration": 0.421685,
     "end_time": "2025-10-16T15:13:47.519489",
     "exception": false,
     "start_time": "2025-10-16T15:13:47.097804",
     "status": "completed"
    },
    "tags": []
   },
   "outputs": [
    {
     "name": "stdout",
     "output_type": "stream",
     "text": [
      "Additive (Independednt of the signal)\n"
     ]
    }
   ],
   "source": [
    "# tekks us if noise is additive or multiplicative \n",
    "correlation = np.corrcoef(clean.flatten(), noise.flatten())[0, 1]\n",
    "if abs(correlation) < 0.1:\n",
    "    print(\"Additive (Independednt of the signal)\")\n",
    "else:\n",
    "    print(\"Multiplicative or signal dependent \")"
   ]
  },
  {
   "cell_type": "code",
   "execution_count": 8,
   "id": "61e88834",
   "metadata": {
    "execution": {
     "iopub.execute_input": "2025-10-16T15:13:47.529895Z",
     "iopub.status.busy": "2025-10-16T15:13:47.529645Z",
     "iopub.status.idle": "2025-10-16T15:13:48.209999Z",
     "shell.execute_reply": "2025-10-16T15:13:48.209117Z"
    },
    "papermill": {
     "duration": 0.686682,
     "end_time": "2025-10-16T15:13:48.211243",
     "exception": false,
     "start_time": "2025-10-16T15:13:47.524561",
     "status": "completed"
    },
    "tags": []
   },
   "outputs": [
    {
     "name": "stdout",
     "output_type": "stream",
     "text": [
      "Gaussian Test (p-value): 0.000000\n",
      "Not likely to be guassian\n"
     ]
    }
   ],
   "source": [
    "_, p_value_gaussian = stats.normaltest(noise.flatten())\n",
    "print(f\"Gaussian Test (p-value): {p_value_gaussian:.6f}\")\n",
    "if p_value_gaussian > 0.05:\n",
    "    print(\" Noise is likely to be guassian\")\n",
    "else:\n",
    "    print(\"Not likely to be guassian\")"
   ]
  },
  {
   "cell_type": "code",
   "execution_count": 9,
   "id": "3e0b970d",
   "metadata": {
    "execution": {
     "iopub.execute_input": "2025-10-16T15:13:48.221654Z",
     "iopub.status.busy": "2025-10-16T15:13:48.221205Z",
     "iopub.status.idle": "2025-10-16T15:13:48.967139Z",
     "shell.execute_reply": "2025-10-16T15:13:48.966134Z"
    },
    "papermill": {
     "duration": 0.752316,
     "end_time": "2025-10-16T15:13:48.968416",
     "exception": false,
     "start_time": "2025-10-16T15:13:48.216100",
     "status": "completed"
    },
    "tags": []
   },
   "outputs": [
    {
     "name": "stdout",
     "output_type": "stream",
     "text": [
      "3132.988314990205\n",
      "11655238.65809521\n"
     ]
    }
   ],
   "source": [
    "skewness = stats.skew(noise.flatten())\n",
    "kurtosis = stats.kurtosis(noise.flatten())\n",
    "print(skewness)\n",
    "print(kurtosis)"
   ]
  },
  {
   "cell_type": "markdown",
   "id": "f6d61e32",
   "metadata": {
    "papermill": {
     "duration": 0.004856,
     "end_time": "2025-10-16T15:13:48.978199",
     "exception": false,
     "start_time": "2025-10-16T15:13:48.973343",
     "status": "completed"
    },
    "tags": []
   },
   "source": [
    "# Main Denoiser Code "
   ]
  },
  {
   "cell_type": "markdown",
   "id": "ee86d6a7",
   "metadata": {
    "papermill": {
     "duration": 0.004416,
     "end_time": "2025-10-16T15:13:48.987359",
     "exception": false,
     "start_time": "2025-10-16T15:13:48.982943",
     "status": "completed"
    },
    "tags": []
   },
   "source": [
    "\n",
    "In Previous Submmsions We have tried AutoEncoders and HuberLoss and Other techniques through discussions we have found out Huber Regressor and Ridge Regressor gives us the best Output"
   ]
  },
  {
   "cell_type": "markdown",
   "id": "82c5201a",
   "metadata": {
    "papermill": {
     "duration": 0.004269,
     "end_time": "2025-10-16T15:13:48.996174",
     "exception": false,
     "start_time": "2025-10-16T15:13:48.991905",
     "status": "completed"
    },
    "tags": []
   },
   "source": [
    "From the EDA we get to know the dostribution of our dataset and the strong outlier hence we try to use Hubber Regressor and Ridge Regressor "
   ]
  },
  {
   "cell_type": "code",
   "execution_count": 10,
   "id": "48defba3",
   "metadata": {
    "execution": {
     "iopub.execute_input": "2025-10-16T15:13:49.006457Z",
     "iopub.status.busy": "2025-10-16T15:13:49.005958Z",
     "iopub.status.idle": "2025-10-16T15:13:49.242220Z",
     "shell.execute_reply": "2025-10-16T15:13:49.241613Z"
    },
    "papermill": {
     "duration": 0.242939,
     "end_time": "2025-10-16T15:13:49.243502",
     "exception": false,
     "start_time": "2025-10-16T15:13:49.000563",
     "status": "completed"
    },
    "tags": []
   },
   "outputs": [],
   "source": [
    "import numpy as np\n",
    "import pandas as pd\n",
    "from sklearn.linear_model import Ridge, HuberRegressor\n",
    "from sklearn.preprocessing import PowerTransformer, RobustScaler, QuantileTransformer\n",
    "import time"
   ]
  },
  {
   "cell_type": "code",
   "execution_count": 11,
   "id": "48050ad8",
   "metadata": {
    "execution": {
     "iopub.execute_input": "2025-10-16T15:13:49.254617Z",
     "iopub.status.busy": "2025-10-16T15:13:49.254084Z",
     "iopub.status.idle": "2025-10-16T15:13:55.958943Z",
     "shell.execute_reply": "2025-10-16T15:13:55.958088Z"
    },
    "papermill": {
     "duration": 6.711794,
     "end_time": "2025-10-16T15:13:55.960581",
     "exception": false,
     "start_time": "2025-10-16T15:13:49.248787",
     "status": "completed"
    },
    "tags": []
   },
   "outputs": [],
   "source": [
    "clean = pd.read_csv('/kaggle/input/afml-assignment-1/final/24_opacus/train-part1-clean.csv', header=None).values.flatten()\n",
    "noisy = pd.read_csv('/kaggle/input/afml-assignment-1/final/24_opacus/train-part1-noise.csv', header=None).values.flatten()"
   ]
  },
  {
   "cell_type": "code",
   "execution_count": 12,
   "id": "240c03a0",
   "metadata": {
    "execution": {
     "iopub.execute_input": "2025-10-16T15:13:55.971505Z",
     "iopub.status.busy": "2025-10-16T15:13:55.970902Z",
     "iopub.status.idle": "2025-10-16T15:13:55.974254Z",
     "shell.execute_reply": "2025-10-16T15:13:55.973774Z"
    },
    "papermill": {
     "duration": 0.009681,
     "end_time": "2025-10-16T15:13:55.975284",
     "exception": false,
     "start_time": "2025-10-16T15:13:55.965603",
     "status": "completed"
    },
    "tags": []
   },
   "outputs": [],
   "source": [
    "clean = clean.reshape(-1,20)\n",
    "noisy = noisy.reshape(-1, 20)"
   ]
  },
  {
   "cell_type": "code",
   "execution_count": 13,
   "id": "6e9ab23b",
   "metadata": {
    "execution": {
     "iopub.execute_input": "2025-10-16T15:13:55.985633Z",
     "iopub.status.busy": "2025-10-16T15:13:55.985031Z",
     "iopub.status.idle": "2025-10-16T15:13:55.990536Z",
     "shell.execute_reply": "2025-10-16T15:13:55.989862Z"
    },
    "papermill": {
     "duration": 0.011756,
     "end_time": "2025-10-16T15:13:55.991630",
     "exception": false,
     "start_time": "2025-10-16T15:13:55.979874",
     "status": "completed"
    },
    "tags": []
   },
   "outputs": [],
   "source": [
    "quantile_X = QuantileTransformer(n_quantiles=2000, output_distribution='normal', random_state=42)\n",
    "quantile_y = QuantileTransformer(n_quantiles=2000, output_distribution='normal', random_state=42)\n"
   ]
  },
  {
   "cell_type": "code",
   "execution_count": 14,
   "id": "28f92a24",
   "metadata": {
    "execution": {
     "iopub.execute_input": "2025-10-16T15:13:56.001863Z",
     "iopub.status.busy": "2025-10-16T15:13:56.001304Z",
     "iopub.status.idle": "2025-10-16T15:14:10.978990Z",
     "shell.execute_reply": "2025-10-16T15:14:10.978325Z"
    },
    "papermill": {
     "duration": 14.984071,
     "end_time": "2025-10-16T15:14:10.980370",
     "exception": false,
     "start_time": "2025-10-16T15:13:55.996299",
     "status": "completed"
    },
    "tags": []
   },
   "outputs": [],
   "source": [
    "X_quantile = quantile_X.fit_transform(noisy)\n",
    "y_quantile = quantile_y.fit_transform(clean)"
   ]
  },
  {
   "cell_type": "code",
   "execution_count": 15,
   "id": "9556de00",
   "metadata": {
    "execution": {
     "iopub.execute_input": "2025-10-16T15:14:10.990897Z",
     "iopub.status.busy": "2025-10-16T15:14:10.990508Z",
     "iopub.status.idle": "2025-10-16T15:14:13.615860Z",
     "shell.execute_reply": "2025-10-16T15:14:13.615012Z"
    },
    "papermill": {
     "duration": 2.632096,
     "end_time": "2025-10-16T15:14:13.617398",
     "exception": false,
     "start_time": "2025-10-16T15:14:10.985302",
     "status": "completed"
    },
    "tags": []
   },
   "outputs": [],
   "source": [
    "scaler_X = RobustScaler(quantile_range=(10, 90))\n",
    "scaler_y = RobustScaler(quantile_range=(10, 90))\n",
    "X_scaled = scaler_X.fit_transform(X_quantile)\n",
    "y_scaled = scaler_y.fit_transform(y_quantile)\n"
   ]
  },
  {
   "cell_type": "code",
   "execution_count": 16,
   "id": "44b9b0e5",
   "metadata": {
    "execution": {
     "iopub.execute_input": "2025-10-16T15:14:13.630695Z",
     "iopub.status.busy": "2025-10-16T15:14:13.630080Z",
     "iopub.status.idle": "2025-10-16T15:14:43.735264Z",
     "shell.execute_reply": "2025-10-16T15:14:43.734531Z"
    },
    "papermill": {
     "duration": 30.117525,
     "end_time": "2025-10-16T15:14:43.741120",
     "exception": false,
     "start_time": "2025-10-16T15:14:13.623595",
     "status": "completed"
    },
    "tags": []
   },
   "outputs": [
    {
     "name": "stdout",
     "output_type": "stream",
     "text": [
      "Transformed X shape: (1024147, 20)\n",
      "Transformed y shape: (1024147, 20)\n"
     ]
    }
   ],
   "source": [
    "power_transformer_X = PowerTransformer(method='yeo-johnson', standardize=True)\n",
    "power_transformer_y = PowerTransformer(method='yeo-johnson', standardize=True)\n",
    "\n",
    "X_train = power_transformer_X.fit_transform(X_scaled)\n",
    "y_train = power_transformer_y.fit_transform(y_scaled)\n",
    "\n",
    "print(f\"Transformed X shape: {X_train.shape}\")\n",
    "print(f\"Transformed y shape: {y_train.shape}\")"
   ]
  },
  {
   "cell_type": "markdown",
   "id": "a129e315",
   "metadata": {
    "papermill": {
     "duration": 0.004553,
     "end_time": "2025-10-16T15:14:43.750210",
     "exception": false,
     "start_time": "2025-10-16T15:14:43.745657",
     "status": "completed"
    },
    "tags": []
   },
   "source": [
    "# Training "
   ]
  },
  {
   "cell_type": "code",
   "execution_count": 17,
   "id": "d6947a3d",
   "metadata": {
    "execution": {
     "iopub.execute_input": "2025-10-16T15:14:43.760769Z",
     "iopub.status.busy": "2025-10-16T15:14:43.759998Z",
     "iopub.status.idle": "2025-10-16T15:16:16.386713Z",
     "shell.execute_reply": "2025-10-16T15:16:16.385841Z"
    },
    "papermill": {
     "duration": 92.633568,
     "end_time": "2025-10-16T15:16:16.388285",
     "exception": false,
     "start_time": "2025-10-16T15:14:43.754717",
     "status": "completed"
    },
    "tags": []
   },
   "outputs": [],
   "source": [
    "tart_time = time.time()\n",
    "\n",
    "huber_models = []\n",
    "ridge_models = []\n",
    "\n",
    "for i in range(20):\n",
    "    huber = HuberRegressor(\n",
    "        epsilon=1.05,       \n",
    "        alpha=0.0001,      \n",
    "        max_iter=500,\n",
    "        tol=1e-6,\n",
    "        fit_intercept=True\n",
    "    )\n",
    "    huber.fit(X_train, y_train[:, i])\n",
    "    huber_models.append(huber)\n",
    "    \n",
    "    \n",
    "    ridge = Ridge(\n",
    "        alpha=0.001,       \n",
    "        fit_intercept=True,\n",
    "        max_iter=3000,\n",
    "        tol=1e-7,\n",
    "        solver='auto'\n",
    "    )\n",
    "    ridge.fit(X_train, y_train[:, i])\n",
    "    ridge_models.append(ridge)"
   ]
  },
  {
   "cell_type": "code",
   "execution_count": 18,
   "id": "a55a7201",
   "metadata": {
    "execution": {
     "iopub.execute_input": "2025-10-16T15:16:16.399465Z",
     "iopub.status.busy": "2025-10-16T15:16:16.398994Z",
     "iopub.status.idle": "2025-10-16T15:16:16.531324Z",
     "shell.execute_reply": "2025-10-16T15:16:16.530239Z"
    },
    "papermill": {
     "duration": 0.139139,
     "end_time": "2025-10-16T15:16:16.532748",
     "exception": false,
     "start_time": "2025-10-16T15:16:16.393609",
     "status": "completed"
    },
    "tags": []
   },
   "outputs": [
    {
     "name": "stdout",
     "output_type": "stream",
     "text": [
      "Test data shape: (12732, 20)\n"
     ]
    }
   ],
   "source": [
    "test = pd.read_csv('/kaggle/input/afml-assignment-1/final/24_opacus/test-part1.csv', header=None, skiprows=1).values.astype(np.float32)\n",
    "\n",
    "print(f\"Test data shape: {test.shape}\")\n",
    "test_quantile = quantile_X.transform(test)\n",
    "test_scaled = scaler_X.transform(test_quantile)\n",
    "test_transformed = power_transformer_X.transform(test_scaled)\n"
   ]
  },
  {
   "cell_type": "markdown",
   "id": "af1b9979",
   "metadata": {
    "papermill": {
     "duration": 0.004902,
     "end_time": "2025-10-16T15:16:16.542971",
     "exception": false,
     "start_time": "2025-10-16T15:16:16.538069",
     "status": "completed"
    },
    "tags": []
   },
   "source": [
    "Ensambling Both the models "
   ]
  },
  {
   "cell_type": "code",
   "execution_count": 19,
   "id": "b8573060",
   "metadata": {
    "execution": {
     "iopub.execute_input": "2025-10-16T15:16:16.554180Z",
     "iopub.status.busy": "2025-10-16T15:16:16.553935Z",
     "iopub.status.idle": "2025-10-16T15:16:16.648805Z",
     "shell.execute_reply": "2025-10-16T15:16:16.647898Z"
    },
    "papermill": {
     "duration": 0.102055,
     "end_time": "2025-10-16T15:16:16.650096",
     "exception": false,
     "start_time": "2025-10-16T15:16:16.548041",
     "status": "completed"
    },
    "tags": []
   },
   "outputs": [
    {
     "name": "stdout",
     "output_type": "stream",
     "text": [
      "Predictions shape: (12732, 20)\n",
      "Predictions range: [-0.471118, 0.131664]\n"
     ]
    }
   ],
   "source": [
    "huber_preds = np.zeros((test_transformed.shape[0], 20))\n",
    "ridge_preds = np.zeros((test_transformed.shape[0], 20))\n",
    "\n",
    "for i in range(20):\n",
    "    huber_preds[:, i] = huber_models[i].predict(test_transformed)\n",
    "    ridge_preds[:, i] = ridge_models[i].predict(test_transformed)\n",
    "\n",
    "\n",
    "huber_weight = 0.7\n",
    "ridge_weight = 0.3\n",
    "\n",
    "predictions_transformed = huber_weight * huber_preds + ridge_weight * ridge_preds\n",
    "\n",
    "\n",
    "predictions_scaled = power_transformer_y.inverse_transform(predictions_transformed)\n",
    "predictions_robust = scaler_y.inverse_transform(predictions_scaled)\n",
    "predictions_final = quantile_y.inverse_transform(predictions_robust)\n",
    "print(f\"Predictions shape: {predictions_final.shape}\")\n",
    "print(f\"Predictions range: [{predictions_final.min():.6f}, {predictions_final.max():.6f}]\")"
   ]
  },
  {
   "cell_type": "markdown",
   "id": "9ea70860",
   "metadata": {
    "papermill": {
     "duration": 0.005256,
     "end_time": "2025-10-16T15:16:16.661580",
     "exception": false,
     "start_time": "2025-10-16T15:16:16.656324",
     "status": "completed"
    },
    "tags": []
   },
   "source": [
    "Submmision File For Part 2 "
   ]
  },
  {
   "cell_type": "code",
   "execution_count": 20,
   "id": "4c4a09be",
   "metadata": {
    "execution": {
     "iopub.execute_input": "2025-10-16T15:16:16.672218Z",
     "iopub.status.busy": "2025-10-16T15:16:16.672000Z",
     "iopub.status.idle": "2025-10-16T15:16:17.086926Z",
     "shell.execute_reply": "2025-10-16T15:16:17.086011Z"
    },
    "papermill": {
     "duration": 0.421773,
     "end_time": "2025-10-16T15:16:17.088168",
     "exception": false,
     "start_time": "2025-10-16T15:16:16.666395",
     "status": "completed"
    },
    "tags": []
   },
   "outputs": [
    {
     "name": "stdout",
     "output_type": "stream",
     "text": [
      "Submmsion_csv has been processed\n",
      "Submission saved: (12732, 21)\n"
     ]
    }
   ],
   "source": [
    "df_out = pd.DataFrame(predictions_final, columns=[f'Col{i+1}' for i in range(20)])\n",
    "df_out.insert(0, 'id', range(1, len(predictions_final) + 1))\n",
    "\n",
    "df_out.to_csv('submission_best.csv', index=False)\n",
    "print(\"Submmsion_csv has been processed\")\n",
    "print(f\"Submission saved: {df_out.shape}\")"
   ]
  },
  {
   "cell_type": "markdown",
   "id": "1c652d4a",
   "metadata": {
    "papermill": {
     "duration": 0.004592,
     "end_time": "2025-10-16T15:16:17.097711",
     "exception": false,
     "start_time": "2025-10-16T15:16:17.093119",
     "status": "completed"
    },
    "tags": []
   },
   "source": [
    "Validation on training data (for performance metrics)"
   ]
  },
  {
   "cell_type": "code",
   "execution_count": 21,
   "id": "a2edb301",
   "metadata": {
    "execution": {
     "iopub.execute_input": "2025-10-16T15:16:17.108115Z",
     "iopub.status.busy": "2025-10-16T15:16:17.107633Z",
     "iopub.status.idle": "2025-10-16T15:16:23.536704Z",
     "shell.execute_reply": "2025-10-16T15:16:23.536105Z"
    },
    "papermill": {
     "duration": 6.435704,
     "end_time": "2025-10-16T15:16:23.538103",
     "exception": false,
     "start_time": "2025-10-16T15:16:17.102399",
     "status": "completed"
    },
    "tags": []
   },
   "outputs": [],
   "source": [
    "huber_train_preds = np.zeros((X_train.shape[0], 20))\n",
    "ridge_train_preds = np.zeros((X_train.shape[0], 20))\n",
    "\n",
    "for i in range(20):\n",
    "    huber_train_preds[:, i] = huber_models[i].predict(X_train)\n",
    "    ridge_train_preds[:, i] = ridge_models[i].predict(X_train)\n",
    "\n",
    "train_pred_transformed = huber_weight * huber_train_preds + ridge_weight * ridge_train_preds\n",
    "train_pred_scaled = power_transformer_y.inverse_transform(train_pred_transformed)\n",
    "train_pred_robust = scaler_y.inverse_transform(train_pred_scaled)\n",
    "train_pred = quantile_y.inverse_transform(train_pred_robust)\n",
    "\n",
    "mse = np.mean((train_pred - clean)**2)\n",
    "mae = np.mean(np.abs(train_pred - clean))\n",
    "rmse = np.sqrt(mse)\n"
   ]
  },
  {
   "cell_type": "code",
   "execution_count": 22,
   "id": "eeb38ea9",
   "metadata": {
    "execution": {
     "iopub.execute_input": "2025-10-16T15:16:23.548794Z",
     "iopub.status.busy": "2025-10-16T15:16:23.548545Z",
     "iopub.status.idle": "2025-10-16T15:16:23.552419Z",
     "shell.execute_reply": "2025-10-16T15:16:23.551798Z"
    },
    "papermill": {
     "duration": 0.010377,
     "end_time": "2025-10-16T15:16:23.553551",
     "exception": false,
     "start_time": "2025-10-16T15:16:23.543174",
     "status": "completed"
    },
    "tags": []
   },
   "outputs": [
    {
     "name": "stdout",
     "output_type": "stream",
     "text": [
      "0.008040021529692671\n",
      "0.08966616714063712\n",
      "0.031207547421272727\n"
     ]
    }
   ],
   "source": [
    "print(mse)\n",
    "print(rmse)\n",
    "print(mae)"
   ]
  },
  {
   "cell_type": "markdown",
   "id": "b9862d4a",
   "metadata": {
    "papermill": {
     "duration": 0.004518,
     "end_time": "2025-10-16T15:16:23.562817",
     "exception": false,
     "start_time": "2025-10-16T15:16:23.558299",
     "status": "completed"
    },
    "tags": []
   },
   "source": [
    "Indivisual Performance of each ensamble that we used"
   ]
  },
  {
   "cell_type": "code",
   "execution_count": 23,
   "id": "19be5ffb",
   "metadata": {
    "execution": {
     "iopub.execute_input": "2025-10-16T15:16:23.572950Z",
     "iopub.status.busy": "2025-10-16T15:16:23.572725Z",
     "iopub.status.idle": "2025-10-16T15:16:32.729240Z",
     "shell.execute_reply": "2025-10-16T15:16:32.728395Z"
    },
    "papermill": {
     "duration": 9.163143,
     "end_time": "2025-10-16T15:16:32.730641",
     "exception": false,
     "start_time": "2025-10-16T15:16:23.567498",
     "status": "completed"
    },
    "tags": []
   },
   "outputs": [],
   "source": [
    "huber_train_final = quantile_y.inverse_transform(scaler_y.inverse_transform(power_transformer_y.inverse_transform(huber_train_preds)))\n",
    "ridge_train_final = quantile_y.inverse_transform(scaler_y.inverse_transform(power_transformer_y.inverse_transform(ridge_train_preds)))\n",
    "\n",
    "huber_mae = np.mean(np.abs(huber_train_final - clean))\n",
    "ridge_mae = np.mean(np.abs(ridge_train_final - clean))\n"
   ]
  },
  {
   "cell_type": "code",
   "execution_count": 24,
   "id": "42618985",
   "metadata": {
    "execution": {
     "iopub.execute_input": "2025-10-16T15:16:32.741779Z",
     "iopub.status.busy": "2025-10-16T15:16:32.741520Z",
     "iopub.status.idle": "2025-10-16T15:16:32.745607Z",
     "shell.execute_reply": "2025-10-16T15:16:32.744889Z"
    },
    "papermill": {
     "duration": 0.010722,
     "end_time": "2025-10-16T15:16:32.746658",
     "exception": false,
     "start_time": "2025-10-16T15:16:32.735936",
     "status": "completed"
    },
    "tags": []
   },
   "outputs": [
    {
     "name": "stdout",
     "output_type": "stream",
     "text": [
      "0.02999963368580386\n",
      "0.033193327567791094\n",
      "0.031207547421272727\n"
     ]
    }
   ],
   "source": [
    "print(huber_mae)\n",
    "print(ridge_mae)\n",
    "print(mae)"
   ]
  }
 ],
 "metadata": {
  "kaggle": {
   "accelerator": "gpu",
   "dataSources": [
    {
     "databundleVersionId": 14057243,
     "sourceId": 117408,
     "sourceType": "competition"
    }
   ],
   "dockerImageVersionId": 31153,
   "isGpuEnabled": true,
   "isInternetEnabled": true,
   "language": "python",
   "sourceType": "notebook"
  },
  "kernelspec": {
   "display_name": "Python 3",
   "language": "python",
   "name": "python3"
  },
  "language_info": {
   "codemirror_mode": {
    "name": "ipython",
    "version": 3
   },
   "file_extension": ".py",
   "mimetype": "text/x-python",
   "name": "python",
   "nbconvert_exporter": "python",
   "pygments_lexer": "ipython3",
   "version": "3.11.13"
  },
  "papermill": {
   "default_parameters": {},
   "duration": 189.591077,
   "end_time": "2025-10-16T15:16:34.071117",
   "environment_variables": {},
   "exception": null,
   "input_path": "__notebook__.ipynb",
   "output_path": "__notebook__.ipynb",
   "parameters": {},
   "start_time": "2025-10-16T15:13:24.480040",
   "version": "2.6.0"
  }
 },
 "nbformat": 4,
 "nbformat_minor": 5
}
